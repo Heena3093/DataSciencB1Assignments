{
 "cells": [
  {
   "cell_type": "code",
   "execution_count": 1,
   "metadata": {},
   "outputs": [],
   "source": [
    "# Q1) Correct English Word\n",
    "#----> RAINBOW"
   ]
  },
  {
   "cell_type": "code",
   "execution_count": 2,
   "metadata": {},
   "outputs": [
    {
     "name": "stdout",
     "output_type": "stream",
     "text": [
      "LETS UPGRADE\n"
     ]
    }
   ],
   "source": [
    "#Q2) write prgram which prints \"LETS UPGRADE\"\n",
    "\n",
    "print(\"LETS UPGRADE\")"
   ]
  },
  {
   "cell_type": "code",
   "execution_count": 11,
   "metadata": {},
   "outputs": [
    {
     "name": "stdout",
     "output_type": "stream",
     "text": [
      "--------\n",
      "Loss\n",
      "--------\n"
     ]
    }
   ],
   "source": [
    "#Q3)\n",
    "\n",
    "CP = 3500\n",
    "SP = 1500\n",
    "\n",
    "if(CP > SP):\n",
    "\n",
    "    amount = CP - SP\n",
    "\n",
    "    print(\"--------\")\n",
    "    print(\"Loss\")\n",
    "    print(\"--------\")\n",
    "\n",
    "elif(SP > CP):\n",
    "\n",
    "    amount = SP - CP\n",
    "    \n",
    "    print(\"--------\")\n",
    "    print(\"Profit\")\n",
    "    print(\"--------\")\n",
    "\n",
    "else:\n",
    "    print(\"--------\")\n",
    "    print(\"Neither....\")\n",
    "    print(\"--------\")"
   ]
  },
  {
   "cell_type": "code",
   "execution_count": 15,
   "metadata": {},
   "outputs": [
    {
     "name": "stdout",
     "output_type": "stream",
     "text": [
      " Please Enter the Cost Price of the product: 19\n",
      " Please Enter the Sale Price of the product: 95\n",
      " Profit\n"
     ]
    }
   ],
   "source": [
    "#Q4)  \n",
    "\n",
    "CP = float(input(\" Please Enter the Cost Price of the product: \"))\n",
    "\n",
    "SP = float(input(\" Please Enter the Sale Price of the product: \"))\n",
    "\n",
    "if(CP > SP):\n",
    "\n",
    "    amount = CP - SP\n",
    "\n",
    "    print(\" Loss\")\n",
    "\n",
    "elif(SP > CP):\n",
    "\n",
    "    amount = SP - CP\n",
    "\n",
    "    print(\" Profit\")\n",
    "\n",
    "else:\n",
    "\n",
    "    print(\" Neither....\")"
   ]
  },
  {
   "cell_type": "code",
   "execution_count": 18,
   "metadata": {},
   "outputs": [
    {
     "name": "stdout",
     "output_type": "stream",
     "text": [
      "Please enter rupees:95\n",
      "7600  Output\n"
     ]
    }
   ],
   "source": [
    "#Q5) \n",
    "Euro= 80\n",
    "rupees = int(input(\"Please enter rupees:\"))\n",
    "Op = rupees* Euro\n",
    "print(Op, \" Output\")"
   ]
  }
 ],
 "metadata": {
  "kernelspec": {
   "display_name": "Python 3",
   "language": "python",
   "name": "python3"
  },
  "language_info": {
   "codemirror_mode": {
    "name": "ipython",
    "version": 3
   },
   "file_extension": ".py",
   "mimetype": "text/x-python",
   "name": "python",
   "nbconvert_exporter": "python",
   "pygments_lexer": "ipython3",
   "version": "3.8.3"
  }
 },
 "nbformat": 4,
 "nbformat_minor": 4
}
