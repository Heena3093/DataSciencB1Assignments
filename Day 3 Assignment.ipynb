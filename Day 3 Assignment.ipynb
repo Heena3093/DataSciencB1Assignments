{
 "cells": [
  {
   "cell_type": "code",
   "execution_count": 8,
   "metadata": {},
   "outputs": [
    {
     "data": {
      "text/plain": [
       "array([ 2,  5,  8, 11, 14, 17, 20, 23, 26, 29, 32, 35, 38, 41, 44, 47])"
      ]
     },
     "execution_count": 8,
     "metadata": {},
     "output_type": "execute_result"
    }
   ],
   "source": [
    "#Q1)create a numpy array starting from 2 till 50 with stepsize of 3\n",
    "import numpy as np\n",
    "\n",
    "np.arange(start=2, stop=50, step=3)"
   ]
  },
  {
   "cell_type": "code",
   "execution_count": 8,
   "metadata": {},
   "outputs": [
    {
     "name": "stdout",
     "output_type": "stream",
     "text": [
      "Enter a list elements separated by space 4 7 9 1 2\n",
      "\n",
      "\n",
      "Enter a list elements separated by space 9 7 6 1 3\n",
      "\n",
      "\n",
      "user list is  ['4', '7', '9', '1', '2'] ['9', '7', '6', '1', '3']\n",
      "\n",
      "\n"
     ]
    },
    {
     "data": {
      "text/plain": [
       "array([['1', '2', '4', '7', '9'],\n",
       "       ['1', '3', '6', '7', '9']], dtype='<U1')"
      ]
     },
     "execution_count": 8,
     "metadata": {},
     "output_type": "execute_result"
    }
   ],
   "source": [
    "#Q2)Accept two list of 5 elements each from the user.Convert them to numpy arrays.Concatenate these arrays and print itAlso sort these array and print it\n",
    "import numpy as np\n",
    "input_string1 = input(\"Enter a list elements separated by space \")\n",
    "print(\"\\n\")\n",
    "userList1 = input_string1.split()\n",
    "\n",
    "input_string2 = input(\"Enter a list elements separated by space \")\n",
    "print(\"\\n\")\n",
    "userList2 = input_string2.split()  \n",
    "\n",
    "print(\"user list is \", userList1,userList2)\n",
    "\n",
    "np.concatenate((userList1, userList2), axis=0)\n",
    "print(\"\\n\")\n",
    "np.sort((userList1, userList2))\n"
   ]
  },
  {
   "cell_type": "code",
   "execution_count": 9,
   "metadata": {},
   "outputs": [
    {
     "name": "stdout",
     "output_type": "stream",
     "text": [
      "Adding 1 to every element: [2 3 6 4]\n",
      "Subtracting 3 from each element: [-2 -1  2  0]\n",
      "Multiplying each element by 10: [10 20 50 30]\n",
      "Squaring each element: [ 1  4 25  9]\n",
      "Doubled each element of original array: [ 2  4 10  6]\n",
      "\n",
      "Original array:\n",
      " [[1 2 3]\n",
      " [3 4 5]\n",
      " [9 6 0]]\n",
      "Transpose of array:\n",
      " [[1 3 9]\n",
      " [2 4 6]\n",
      " [3 5 0]]\n"
     ]
    }
   ],
   "source": [
    "#Q3)Write a code snippet to find the dimensions of a ndarray and its size.\n",
    "import numpy as np\n",
    " \n",
    "a = np.array([1, 2, 5, 3])\n",
    " \n",
    "# add 1 to every element\n",
    "print (\"Adding 1 to every element:\", a+1)\n",
    " \n",
    "# subtract 3 from each element\n",
    "print (\"Subtracting 3 from each element:\", a-3)\n",
    " \n",
    "# multiply each element by 10\n",
    "print (\"Multiplying each element by 10:\", a*10)\n",
    " \n",
    "# square each element\n",
    "print (\"Squaring each element:\", a**2)\n",
    " \n",
    "# modify existing array\n",
    "a *= 2\n",
    "print (\"Doubled each element of original array:\", a)\n",
    " \n",
    "# transpose of array\n",
    "a = np.array([[1, 2, 3], [3, 4, 5], [9, 6, 0]])\n",
    " \n",
    "print (\"\\nOriginal array:\\n\", a)\n",
    "print (\"Transpose of array:\\n\", a.T)"
   ]
  },
  {
   "cell_type": "code",
   "execution_count": 10,
   "metadata": {},
   "outputs": [
    {
     "name": "stdout",
     "output_type": "stream",
     "text": [
      "initial array [[1 2 3]\n",
      " [2 4 5]\n",
      " [1 2 3]]\n",
      "New resulting array:  [[1 2 3 2 4 5 1 2 3]]\n"
     ]
    }
   ],
   "source": [
    "#Q4)How to convert a 1D array into a 2D array? Demonstrate with the help of a code snippet\n",
    "import numpy as np \n",
    "  \n",
    "ini_array1 = np.array([[1, 2, 3], [2, 4, 5], [1, 2, 3]]) \n",
    "  \n",
    "# printing initial arrays \n",
    "print(\"initial array\", str(ini_array1)) \n",
    "  \n",
    "# Multiplying arrays \n",
    "result = ini_array1.reshape([1, 9]) \n",
    "  \n",
    "# printing result \n",
    "print(\"New resulting array: \", result) "
   ]
  },
  {
   "cell_type": "code",
   "execution_count": 11,
   "metadata": {},
   "outputs": [
    {
     "name": "stdout",
     "output_type": "stream",
     "text": [
      "Horizontal Append: [1 2 3 4 5 6]\n",
      "Vertical Append: [[1 2 3]\n",
      " [4 5 6]]\n"
     ]
    }
   ],
   "source": [
    "#Q5)Consider two square numpy arrays. Stack them vertically and horizontally.Hint: Use vstack(), hstack()\n",
    "\n",
    "import numpy as np\n",
    "f = np.array([1,2,3])\n",
    "g = np.array([4,5,6])\n",
    "\n",
    "print('Horizontal Append:', np.hstack((f, g)))\n",
    "print('Vertical Append:', np.vstack((f, g)))"
   ]
  },
  {
   "cell_type": "code",
   "execution_count": 13,
   "metadata": {},
   "outputs": [
    {
     "name": "stdout",
     "output_type": "stream",
     "text": [
      "No of unique items in the list are: 5\n"
     ]
    }
   ],
   "source": [
    "#Q6) How to get unique items and counts of unique items?\n",
    "#importing Counter module \n",
    "from collections import Counter \n",
    "\n",
    "input_list = [1, 2, 2, 5, 8, 4, 4, 8] \n",
    "\n",
    "# creating a list with the keys \n",
    "items = Counter(input_list).keys() \n",
    "print(\"No of unique items in the list are:\", len(items)) \n"
   ]
  },
  {
   "cell_type": "code",
   "execution_count": null,
   "metadata": {},
   "outputs": [],
   "source": [
    "n = int(input(\"Enter the size of list : \"))\n",
    "print(\"\\n\")\n",
    "numList = list(map(int, input(\"Enter the list numbers separated by space \").strip().split()))[:n]\n",
    "print(\"User List: \", numList)"
   ]
  },
  {
   "cell_type": "code",
   "execution_count": null,
   "metadata": {},
   "outputs": [],
   "source": []
  }
 ],
 "metadata": {
  "kernelspec": {
   "display_name": "Python 3",
   "language": "python",
   "name": "python3"
  },
  "language_info": {
   "codemirror_mode": {
    "name": "ipython",
    "version": 3
   },
   "file_extension": ".py",
   "mimetype": "text/x-python",
   "name": "python",
   "nbconvert_exporter": "python",
   "pygments_lexer": "ipython3",
   "version": "3.8.3"
  }
 },
 "nbformat": 4,
 "nbformat_minor": 4
}
