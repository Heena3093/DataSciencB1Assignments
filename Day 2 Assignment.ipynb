{
 "cells": [
  {
   "cell_type": "code",
   "execution_count": 16,
   "metadata": {},
   "outputs": [
    {
     "name": "stdout",
     "output_type": "stream",
     "text": [
      "Enter number of elements : 10\n",
      "23\n",
      "56\n",
      "4\n",
      "78\n",
      "96\n",
      "3\n",
      "46\n",
      "69\n",
      "85\n",
      "66\n",
      "[23, 56, 4, 78, 96, 3, 46, 69, 85, 66]\n",
      "Even No in List: [56, 4, 78, 96, 46, 66]\n"
     ]
    }
   ],
   "source": [
    "#Q1)Create an empty list accept 10 numbers from user and append to it the list if it is an even number.\n",
    "lst = [] \n",
    "  \n",
    "# number of elemetns as input \n",
    "n = int(input(\"Enter number of elements : \")) \n",
    "  \n",
    "# iterating till the range \n",
    "for i in range(0, n): \n",
    "    ele = int(input()) \n",
    "  \n",
    "    lst.append(ele) # adding the element \n",
    "      \n",
    "print(lst) \n",
    "def is_even_num(l):\n",
    "    enum = []\n",
    "    for n in l:\n",
    "        if n % 2 == 0:\n",
    "            enum.append(n)\n",
    "    return enum\n",
    "print('Even No in List:',is_even_num(lst))"
   ]
  },
  {
   "cell_type": "code",
   "execution_count": 36,
   "metadata": {},
   "outputs": [
    {
     "name": "stdout",
     "output_type": "stream",
     "text": [
      "[1, 4, 9, 2, 6, 13, 99, 65, 89, 4]\n",
      "2\n",
      "6\n",
      "6\n",
      "None\n"
     ]
    }
   ],
   "source": [
    "#Q2) Create a notebook on LIST COMPPREHENSION.This exercise is to put you in self learning mode\n",
    "list1=[1,4,9,2,6,13,99,65,89,4]\n",
    "print(list1)\n",
    "print(list1.count(4))\n",
    "print(list1.index(99))\n",
    "print(list1.pop(4))\n",
    "print(list1.insert(5,12))"
   ]
  },
  {
   "cell_type": "code",
   "execution_count": 1,
   "metadata": {},
   "outputs": [
    {
     "name": "stdout",
     "output_type": "stream",
     "text": [
      "Enter a number:5\n",
      "{1: 1, 2: 4, 3: 9, 4: 16, 5: 25}\n"
     ]
    }
   ],
   "source": [
    "#Q3) Given a number n,you have to write a program that generates a dictionary d which contains(i,i*i),where i is from 1 to n\n",
    "n=int(input(\"Enter a number:\"))\n",
    "d={i:i*i for i in range(1,n+1)}\n",
    "print(d)"
   ]
  },
  {
   "cell_type": "code",
   "execution_count": 11,
   "metadata": {},
   "outputs": [
    {
     "name": "stdout",
     "output_type": "stream",
     "text": [
      "Type in UP 5/DOWN 3/LEFT 3/RIGHT 2 #step number: 5\n",
      "Type in UP 5/DOWN 3/LEFT 3/RIGHT 2 #step number: 3\n",
      "Type in UP 5/DOWN 3/LEFT 3/RIGHT 2 #step number: 3\n",
      "Type in UP 5/DOWN 3/LEFT 3/RIGHT 2 #step number: 2\n",
      "Type in UP 5/DOWN 3/LEFT 3/RIGHT 2 #step number: \n",
      "Distance: 0.0\n"
     ]
    }
   ],
   "source": [
    "#Q4)\n",
    "import math\n",
    "\n",
    "x, y = 0, 0\n",
    "\n",
    "while True:\n",
    "    step = input(\"Type in UP 5/DOWN 3/LEFT 3/RIGHT 2 #step number: \")\n",
    "\n",
    "    if step == \"\":\n",
    "        break\n",
    "\n",
    "    else:\n",
    "        step = step.split(\" \")\n",
    "\n",
    "        if step[0] == \"UP\":\n",
    "            y = y + int(step[1])\n",
    "        elif step[0] == \"DOWN\":\n",
    "            y = y - int(step[1])\n",
    "        elif step[0] == \"LEFT\":\n",
    "            x = x - int(step[1])\n",
    "        elif step[0] == \"RIGHT\":\n",
    "            x = x + int(step[1])\n",
    "\n",
    "c = math.sqrt(x**2 + y**2)\n",
    "\n",
    "print(\"Distance:\", c)\n"
   ]
  },
  {
   "cell_type": "code",
   "execution_count": null,
   "metadata": {},
   "outputs": [],
   "source": []
  }
 ],
 "metadata": {
  "kernelspec": {
   "display_name": "Python 3",
   "language": "python",
   "name": "python3"
  },
  "language_info": {
   "codemirror_mode": {
    "name": "ipython",
    "version": 3
   },
   "file_extension": ".py",
   "mimetype": "text/x-python",
   "name": "python",
   "nbconvert_exporter": "python",
   "pygments_lexer": "ipython3",
   "version": "3.8.3"
  }
 },
 "nbformat": 4,
 "nbformat_minor": 4
}
